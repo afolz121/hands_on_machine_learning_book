{
 "cells": [
  {
   "cell_type": "code",
   "execution_count": 1,
   "metadata": {},
   "outputs": [
    {
     "name": "stdout",
     "output_type": "stream",
     "text": [
      "              precision    recall  f1-score   support\n",
      "\n",
      "           0       1.00      1.00      1.00       100\n",
      "           1       1.00      1.00      1.00        50\n",
      "\n",
      "    accuracy                           1.00       150\n",
      "   macro avg       1.00      1.00      1.00       150\n",
      "weighted avg       1.00      1.00      1.00       150\n",
      "\n"
     ]
    }
   ],
   "source": [
    "# train a perceptron in sklearn\n",
    "import numpy as np\n",
    "from sklearn.datasets import load_iris\n",
    "from sklearn.linear_model import Perceptron\n",
    "from sklearn.metrics import classification_report\n",
    "\n",
    "\n",
    "iris = load_iris()\n",
    "x = iris.data[:, (2,3)]\n",
    "y = (iris.target == 0).astype(int)\n",
    "\n",
    "per_clf = Perceptron()\n",
    "per_clf_fit = per_clf.fit(x,y)\n",
    "\n",
    "print(classification_report(y,per_clf_fit.predict(x)))"
   ]
  },
  {
   "cell_type": "code",
   "execution_count": 37,
   "metadata": {},
   "outputs": [],
   "source": [
    "#load fashion mnist dataset\n",
    "\n",
    "import tensorflow as tf\n",
    "from tensorflow import keras \n",
    "\n",
    "mnist = keras.datasets.fashion_mnist\n",
    "\n",
    "(x_train_full, y_train_full), (x_test, y_test) = mnist.load_data()\n",
    "\n",
    "x_valid, x_train = x_train_full[:5000] / 255.0, x_train_full[5000:] / 255.0\n",
    "y_valid, y_train = y_train_full[:5000], y_train_full[5000:]"
   ]
  },
  {
   "cell_type": "code",
   "execution_count": 38,
   "metadata": {},
   "outputs": [],
   "source": [
    "class_names = ['T-shirt/top', 'Trouser', 'Pullover','Dress','Coat',\n",
    "                'Sandal','Shirt','Sneaker','Bag','Ankle boot']    "
   ]
  },
  {
   "cell_type": "code",
   "execution_count": 39,
   "metadata": {},
   "outputs": [
    {
     "name": "stdout",
     "output_type": "stream",
     "text": [
      "Model: \"sequential_2\"\n",
      "_________________________________________________________________\n",
      "Layer (type)                 Output Shape              Param #   \n",
      "=================================================================\n",
      "flatten_1 (Flatten)          (None, 784)               0         \n",
      "_________________________________________________________________\n",
      "dense_41 (Dense)             (None, 300)               235500    \n",
      "_________________________________________________________________\n",
      "dense_42 (Dense)             (None, 100)               30100     \n",
      "_________________________________________________________________\n",
      "dense_43 (Dense)             (None, 10)                1010      \n",
      "=================================================================\n",
      "Total params: 266,610\n",
      "Trainable params: 266,610\n",
      "Non-trainable params: 0\n",
      "_________________________________________________________________\n"
     ]
    }
   ],
   "source": [
    "# build the neural network\n",
    "\n",
    "model = keras.models.Sequential() # start the model\n",
    "model.add(keras.layers.Flatten(input_shape=[28,28])) # This is the input layer. Flatten the data. Original data is 28 by 28 pixels\n",
    "model.add(keras.layers.Dense(300, activation = 'relu')) # first hidden layer\n",
    "model.add(keras.layers.Dense(100, activation = 'relu')) # another hidden layer\n",
    "model.add(keras.layers.Dense(10, activation = 'softmax')) #this is the output layer. 10 neurons for ten fashion classes softmax activation because the classes are exclusive\n",
    "\n",
    "model.summary()\n"
   ]
  },
  {
   "cell_type": "code",
   "execution_count": 40,
   "metadata": {},
   "outputs": [],
   "source": [
    "# setup the model compiler\n",
    "\n",
    "model.compile(loss = \"sparse_categorical_crossentropy\",\n",
    "                optimizer = 'sgd',\n",
    "                metrics = ['accuracy'])"
   ]
  },
  {
   "cell_type": "code",
   "execution_count": 10,
   "metadata": {},
   "outputs": [
    {
     "name": "stdout",
     "output_type": "stream",
     "text": [
      "Epoch 1/30\n",
      "1719/1719 [==============================] - 2s 899us/step - loss: 0.1402 - accuracy: 0.9505 - val_loss: 0.2931 - val_accuracy: 0.9032\n",
      "Epoch 2/30\n",
      "1719/1719 [==============================] - 1s 870us/step - loss: 0.1367 - accuracy: 0.9513 - val_loss: 0.3739 - val_accuracy: 0.8706\n",
      "Epoch 3/30\n",
      "1719/1719 [==============================] - 2s 884us/step - loss: 0.1362 - accuracy: 0.9518 - val_loss: 0.3007 - val_accuracy: 0.9032\n",
      "Epoch 4/30\n",
      "1719/1719 [==============================] - 2s 900us/step - loss: 0.1333 - accuracy: 0.9533 - val_loss: 0.3103 - val_accuracy: 0.8962\n",
      "Epoch 5/30\n",
      "1719/1719 [==============================] - 2s 897us/step - loss: 0.1308 - accuracy: 0.9535 - val_loss: 0.3105 - val_accuracy: 0.9006\n",
      "Epoch 6/30\n",
      "1719/1719 [==============================] - 2s 894us/step - loss: 0.1280 - accuracy: 0.9556 - val_loss: 0.3076 - val_accuracy: 0.9012\n",
      "Epoch 7/30\n",
      "1719/1719 [==============================] - 2s 907us/step - loss: 0.1273 - accuracy: 0.9548 - val_loss: 0.3228 - val_accuracy: 0.8986\n",
      "Epoch 8/30\n",
      "1719/1719 [==============================] - 2s 919us/step - loss: 0.1232 - accuracy: 0.9572 - val_loss: 0.3466 - val_accuracy: 0.8926\n",
      "Epoch 9/30\n",
      "1719/1719 [==============================] - 2s 920us/step - loss: 0.1224 - accuracy: 0.9572 - val_loss: 0.3128 - val_accuracy: 0.8990\n",
      "Epoch 10/30\n",
      "1719/1719 [==============================] - 2s 917us/step - loss: 0.1210 - accuracy: 0.9579 - val_loss: 0.3219 - val_accuracy: 0.9000\n",
      "Epoch 11/30\n",
      "1719/1719 [==============================] - 2s 924us/step - loss: 0.1179 - accuracy: 0.9591 - val_loss: 0.3173 - val_accuracy: 0.9014\n",
      "Epoch 12/30\n",
      "1719/1719 [==============================] - 2s 920us/step - loss: 0.1163 - accuracy: 0.9588 - val_loss: 0.3171 - val_accuracy: 0.8950\n",
      "Epoch 13/30\n",
      "1719/1719 [==============================] - 2s 918us/step - loss: 0.1150 - accuracy: 0.9605 - val_loss: 0.3563 - val_accuracy: 0.8902\n",
      "Epoch 14/30\n",
      "1719/1719 [==============================] - 2s 913us/step - loss: 0.1132 - accuracy: 0.9598 - val_loss: 0.3122 - val_accuracy: 0.9036\n",
      "Epoch 15/30\n",
      "1719/1719 [==============================] - 2s 911us/step - loss: 0.1102 - accuracy: 0.9615 - val_loss: 0.3117 - val_accuracy: 0.8976\n",
      "Epoch 16/30\n",
      "1719/1719 [==============================] - 2s 918us/step - loss: 0.1090 - accuracy: 0.9616 - val_loss: 0.3110 - val_accuracy: 0.9062\n",
      "Epoch 17/30\n",
      "1719/1719 [==============================] - 2s 1ms/step - loss: 0.1067 - accuracy: 0.9623 - val_loss: 0.3194 - val_accuracy: 0.9022\n",
      "Epoch 18/30\n",
      "1719/1719 [==============================] - 2s 945us/step - loss: 0.1059 - accuracy: 0.9630 - val_loss: 0.3407 - val_accuracy: 0.8962\n",
      "Epoch 19/30\n",
      "1719/1719 [==============================] - 2s 899us/step - loss: 0.1047 - accuracy: 0.9635 - val_loss: 0.3464 - val_accuracy: 0.8980\n",
      "Epoch 20/30\n",
      "1719/1719 [==============================] - 2s 908us/step - loss: 0.1038 - accuracy: 0.9628 - val_loss: 0.3388 - val_accuracy: 0.8964\n",
      "Epoch 21/30\n",
      "1719/1719 [==============================] - 2s 909us/step - loss: 0.1012 - accuracy: 0.9646 - val_loss: 0.3482 - val_accuracy: 0.8982\n",
      "Epoch 22/30\n",
      "1719/1719 [==============================] - 2s 895us/step - loss: 0.0999 - accuracy: 0.9649 - val_loss: 0.3559 - val_accuracy: 0.8872\n",
      "Epoch 23/30\n",
      "1719/1719 [==============================] - 2s 901us/step - loss: 0.0962 - accuracy: 0.9672 - val_loss: 0.3224 - val_accuracy: 0.9000\n",
      "Epoch 24/30\n",
      "1719/1719 [==============================] - 2s 875us/step - loss: 0.0940 - accuracy: 0.9673 - val_loss: 0.3404 - val_accuracy: 0.9006\n",
      "Epoch 25/30\n",
      "1719/1719 [==============================] - 2s 882us/step - loss: 0.0951 - accuracy: 0.9677 - val_loss: 0.3260 - val_accuracy: 0.8996\n",
      "Epoch 26/30\n",
      "1719/1719 [==============================] - 2s 897us/step - loss: 0.0922 - accuracy: 0.9687 - val_loss: 0.3212 - val_accuracy: 0.9018\n",
      "Epoch 27/30\n",
      "1719/1719 [==============================] - 2s 895us/step - loss: 0.0907 - accuracy: 0.9698 - val_loss: 0.3333 - val_accuracy: 0.8998\n",
      "Epoch 28/30\n",
      "1719/1719 [==============================] - 2s 905us/step - loss: 0.0896 - accuracy: 0.9695 - val_loss: 0.3465 - val_accuracy: 0.8930\n",
      "Epoch 29/30\n",
      "1719/1719 [==============================] - 2s 900us/step - loss: 0.0878 - accuracy: 0.9693 - val_loss: 0.3415 - val_accuracy: 0.8986\n",
      "Epoch 30/30\n",
      "1719/1719 [==============================] - 2s 908us/step - loss: 0.0864 - accuracy: 0.9697 - val_loss: 0.3570 - val_accuracy: 0.8944\n"
     ]
    }
   ],
   "source": [
    "#run the model\n",
    "\n",
    "history = model.fit(x_train, y_train, epochs = 30,\n",
    "                    validation_data = (x_valid, y_valid))"
   ]
  },
  {
   "cell_type": "code",
   "execution_count": 11,
   "metadata": {},
   "outputs": [
    {
     "data": {
      "image/png": "[encoded data removed]",
      "text/plain": [
       "<Figure size 864x576 with 1 Axes>"
      ]
     },
     "metadata": {
      "needs_background": "light"
     },
     "output_type": "display_data"
    }
   ],
   "source": [
    "# plot the model history \n",
    "\n",
    "import pandas as pd\n",
    "import matplotlib.pyplot as plt\n",
    "\n",
    "pd.DataFrame(history.history).plot(figsize = (12,8))\n",
    "plt.grid(True)\n",
    "plt.gca().set_ylim(0,1)\n",
    "plt.show()"
   ]
  },
  {
   "cell_type": "code",
   "execution_count": 41,
   "metadata": {},
   "outputs": [],
   "source": [
    "# use tensorboard for visualization\n",
    "\n",
    "import os \n",
    "root_logdir = os.path.join(os.curdir, \"my_logs\")\n",
    "\n",
    "def get_run_logdir() :\n",
    "    import time\n",
    "    run_id = time.strftime(\"run_%Y_%m_%d-%H_%M_%S\")\n",
    "    return os.path.join(root_logdir, run_id)\n"
   ]
  },
  {
   "cell_type": "code",
   "execution_count": 42,
   "metadata": {},
   "outputs": [
    {
     "ename": "AttributeError",
     "evalue": "module 'tensorflow.keras.callbacks' has no attribute 'TensorBaord'",
     "output_type": "error",
     "traceback": [
      "\u001b[0;31m---------------------------------------------------------------------------\u001b[0m",
      "\u001b[0;31mAttributeError\u001b[0m                            Traceback (most recent call last)",
      "\u001b[0;32m<ipython-input-42-a1b71aa75f36>\u001b[0m in \u001b[0;36m<module>\u001b[0;34m\u001b[0m\n\u001b[1;32m      1\u001b[0m \u001b[0;31m# build and compile model\u001b[0m\u001b[0;34m\u001b[0m\u001b[0;34m\u001b[0m\u001b[0;34m\u001b[0m\u001b[0m\n\u001b[1;32m      2\u001b[0m \u001b[0;34m\u001b[0m\u001b[0m\n\u001b[0;32m----> 3\u001b[0;31m \u001b[0mtensorboard_cb\u001b[0m \u001b[0;34m=\u001b[0m \u001b[0mkeras\u001b[0m\u001b[0;34m.\u001b[0m\u001b[0mcallbacks\u001b[0m\u001b[0;34m.\u001b[0m\u001b[0mTensorBaord\u001b[0m\u001b[0;34m(\u001b[0m\u001b[0mroot_logdir\u001b[0m\u001b[0;34m)\u001b[0m\u001b[0;34m\u001b[0m\u001b[0;34m\u001b[0m\u001b[0m\n\u001b[0m\u001b[1;32m      4\u001b[0m history = model.fit(x_train, y_train, epochs = 40,\n\u001b[1;32m      5\u001b[0m                     \u001b[0mvalidation_data\u001b[0m \u001b[0;34m=\u001b[0m \u001b[0;34m(\u001b[0m\u001b[0mx_valid\u001b[0m\u001b[0;34m,\u001b[0m \u001b[0my_valid\u001b[0m\u001b[0;34m)\u001b[0m\u001b[0;34m,\u001b[0m\u001b[0;34m\u001b[0m\u001b[0;34m\u001b[0m\u001b[0m\n",
      "\u001b[0;31mAttributeError\u001b[0m: module 'tensorflow.keras.callbacks' has no attribute 'TensorBaord'"
     ]
    }
   ],
   "source": [
    "# build and compile model \n",
    "\n",
    "tensorboard_cb = keras.callbacks.TensorBaord(root_logdir)\n",
    "history = model.fit(x_train, y_train, epochs = 40,\n",
    "                    validation_data = (x_valid, y_valid),\n",
    "                    callbacks = [tensorboard_cb])"
   ]
  },
  {
   "cell_type": "code",
   "execution_count": 12,
   "metadata": {},
   "outputs": [
    {
     "name": "stdout",
     "output_type": "stream",
     "text": [
      "313/313 [==============================] - 0s 942us/step - loss: 109.7579 - accuracy: 0.8342\n"
     ]
    },
    {
     "data": {
      "text/plain": [
       "[109.75785064697266, 0.8342000246047974]"
      ]
     },
     "execution_count": 12,
     "metadata": {},
     "output_type": "execute_result"
    }
   ],
   "source": [
    "#evaluate model with test data. \n",
    "\n",
    "model.evaluate(x_test, y_test)"
   ]
  },
  {
   "cell_type": "code",
   "execution_count": 13,
   "metadata": {},
   "outputs": [
    {
     "data": {
      "text/plain": [
       "array([[0.000000e+00, 0.000000e+00, 0.000000e+00, 0.000000e+00,\n",
       "        0.000000e+00, 0.000000e+00, 0.000000e+00, 0.000000e+00,\n",
       "        0.000000e+00, 1.000000e+00],\n",
       "       [0.000000e+00, 0.000000e+00, 1.000000e+00, 0.000000e+00,\n",
       "        0.000000e+00, 0.000000e+00, 0.000000e+00, 0.000000e+00,\n",
       "        0.000000e+00, 0.000000e+00],\n",
       "       [0.000000e+00, 1.000000e+00, 0.000000e+00, 0.000000e+00,\n",
       "        0.000000e+00, 0.000000e+00, 0.000000e+00, 0.000000e+00,\n",
       "        0.000000e+00, 0.000000e+00],\n",
       "       [0.000000e+00, 1.000000e+00, 0.000000e+00, 0.000000e+00,\n",
       "        0.000000e+00, 0.000000e+00, 0.000000e+00, 0.000000e+00,\n",
       "        0.000000e+00, 0.000000e+00],\n",
       "       [8.159427e-16, 0.000000e+00, 0.000000e+00, 0.000000e+00,\n",
       "        0.000000e+00, 0.000000e+00, 1.000000e+00, 0.000000e+00,\n",
       "        0.000000e+00, 0.000000e+00]], dtype=float32)"
      ]
     },
     "execution_count": 13,
     "metadata": {},
     "output_type": "execute_result"
    }
   ],
   "source": [
    "# throw in predictions\n",
    "\n",
    "x_new = x_test[:5]\n",
    "y_proba = model.predict(x_new)\n",
    "y_proba"
   ]
  },
  {
   "cell_type": "code",
   "execution_count": 14,
   "metadata": {},
   "outputs": [
    {
     "name": "stdout",
     "output_type": "stream",
     "text": [
      "Ankle boot Ankle boot\n",
      "Pullover Pullover\n",
      "Trouser Trouser\n",
      "Trouser Trouser\n",
      "Shirt Shirt\n"
     ]
    }
   ],
   "source": [
    "# predict the classes not the probabilities \n",
    "\n",
    "y_pred = np.argmax(model.predict(x_new), axis = 1)\n",
    "for pred, act in zip(y_pred, y_test[:5]) :\n",
    "    print(class_names[pred], class_names[act])"
   ]
  },
  {
   "cell_type": "code",
   "execution_count": 15,
   "metadata": {},
   "outputs": [],
   "source": [
    "# let's try a regression problem\n",
    "\n",
    "from sklearn.datasets import fetch_california_housing\n",
    "from sklearn.model_selection import train_test_split\n",
    "from sklearn.preprocessing import StandardScaler\n",
    "\n",
    "housing = fetch_california_housing()\n",
    "\n",
    "x_train, x_test, y_train, y_test = train_test_split(housing.data, housing.target, test_size = .2)\n",
    "\n",
    "scaler = StandardScaler()\n",
    "\n",
    "x_train = scaler.fit_transform(x_train)\n",
    "x_test = scaler.fit_transform(x_test)"
   ]
  },
  {
   "cell_type": "code",
   "execution_count": 16,
   "metadata": {},
   "outputs": [
    {
     "data": {
      "text/plain": [
       "array([[-1.15063729e+00,  1.85076555e+00,  1.15546600e-03,\n",
       "         5.05358439e-01, -7.59207423e-01, -1.00221603e-01,\n",
       "        -1.15225900e-01,  2.62743841e-01],\n",
       "       [ 4.27669941e+00,  1.85595192e-01,  1.24992154e+00,\n",
       "        -2.20035547e-01,  6.15226030e-02, -4.54607203e-02,\n",
       "        -8.49958085e-01,  5.52587930e-01],\n",
       "       [ 8.87578560e-01, -1.00381221e+00,  3.37900436e-01,\n",
       "         2.50926878e-02, -5.50982234e-02,  3.07273953e-02,\n",
       "        -9.57594011e-01,  9.47375568e-01]])"
      ]
     },
     "execution_count": 16,
     "metadata": {},
     "output_type": "execute_result"
    }
   ],
   "source": [
    " x_train[:3]"
   ]
  },
  {
   "cell_type": "code",
   "execution_count": 17,
   "metadata": {},
   "outputs": [
    {
     "name": "stdout",
     "output_type": "stream",
     "text": [
      "Epoch 1/20\n",
      "465/465 [==============================] - 0s 643us/step - loss: 0.8881 - val_loss: 0.5638\n",
      "Epoch 2/20\n",
      "465/465 [==============================] - 0s 499us/step - loss: 0.5211 - val_loss: 0.4861\n",
      "Epoch 3/20\n",
      "465/465 [==============================] - 0s 512us/step - loss: 0.4780 - val_loss: 0.4695\n",
      "Epoch 4/20\n",
      "465/465 [==============================] - 0s 513us/step - loss: 0.4603 - val_loss: 0.4405\n",
      "Epoch 5/20\n",
      "465/465 [==============================] - 0s 512us/step - loss: 0.4461 - val_loss: 0.4278\n",
      "Epoch 6/20\n",
      "465/465 [==============================] - 0s 509us/step - loss: 0.4353 - val_loss: 0.4363\n",
      "Epoch 7/20\n",
      "465/465 [==============================] - 0s 525us/step - loss: 0.4256 - val_loss: 0.4188\n",
      "Epoch 8/20\n",
      "465/465 [==============================] - 0s 509us/step - loss: 0.4193 - val_loss: 0.4186\n",
      "Epoch 9/20\n",
      "465/465 [==============================] - 0s 516us/step - loss: 0.4120 - val_loss: 0.4296\n",
      "Epoch 10/20\n",
      "465/465 [==============================] - 0s 511us/step - loss: 0.4069 - val_loss: 0.3910\n",
      "Epoch 11/20\n",
      "465/465 [==============================] - 0s 508us/step - loss: 0.4020 - val_loss: 0.3871\n",
      "Epoch 12/20\n",
      "465/465 [==============================] - 0s 494us/step - loss: 0.3979 - val_loss: 0.3784\n",
      "Epoch 13/20\n",
      "465/465 [==============================] - 0s 519us/step - loss: 0.3930 - val_loss: 0.3714\n",
      "Epoch 14/20\n",
      "465/465 [==============================] - 0s 778us/step - loss: 0.3903 - val_loss: 0.3667\n",
      "Epoch 15/20\n",
      "465/465 [==============================] - 0s 520us/step - loss: 0.3871 - val_loss: 0.4149\n",
      "Epoch 16/20\n",
      "465/465 [==============================] - 0s 687us/step - loss: 0.3867 - val_loss: 0.3870\n",
      "Epoch 17/20\n",
      "465/465 [==============================] - 0s 908us/step - loss: 0.3818 - val_loss: 0.3925\n",
      "Epoch 18/20\n",
      "465/465 [==============================] - 0s 886us/step - loss: 0.3784 - val_loss: 0.3844\n",
      "Epoch 19/20\n",
      "465/465 [==============================] - 0s 699us/step - loss: 0.3758 - val_loss: 0.3646\n",
      "Epoch 20/20\n",
      "465/465 [==============================] - 0s 528us/step - loss: 0.3736 - val_loss: 0.3774\n",
      "129/129 [==============================] - 0s 663us/step - loss: 0.3301\n"
     ]
    },
    {
     "data": {
      "text/plain": [
       "0.0"
      ]
     },
     "execution_count": 17,
     "metadata": {},
     "output_type": "execute_result"
    }
   ],
   "source": [
    "reg_model = keras.models.Sequential([\n",
    "    keras.layers.Dense(30, activation = 'relu', input_shape = x_train.shape[1:]),\n",
    "    keras.layers.Dense(1)\n",
    "])\n",
    "\n",
    "reg_model.compile(loss = 'mean_squared_error', optimizer = 'sgd')\n",
    "history = reg_model.fit(x_train, y_train, validation_split = 0.1, epochs = 20)\n",
    "mse_test = reg_model.evaluate(x_test, y_test)\n",
    "x_new = x_train[:100]\n",
    "y_pred = reg_model.predict(x_new)\n",
    "\n",
    "def mse(act,pred) :\n",
    "    return np.mean((act - pred)**2)\n",
    "\n",
    "mse(x_train[:100], x_new)"
   ]
  },
  {
   "cell_type": "code",
   "execution_count": 35,
   "metadata": {},
   "outputs": [
    {
     "name": "stdout",
     "output_type": "stream",
     "text": [
      "Epoch 1/50\n",
      "465/465 [==============================] - 1s 761us/step - loss: 1.6780 - root_mean_squared_error: 1.2954 - val_loss: 0.7500 - val_root_mean_squared_error: 0.8660\n",
      "Epoch 2/50\n",
      "465/465 [==============================] - 0s 620us/step - loss: 0.7320 - root_mean_squared_error: 0.8556 - val_loss: 0.6672 - val_root_mean_squared_error: 0.8168\n",
      "Epoch 3/50\n",
      "465/465 [==============================] - 0s 621us/step - loss: 0.6621 - root_mean_squared_error: 0.8137 - val_loss: 0.6201 - val_root_mean_squared_error: 0.7875\n",
      "Epoch 4/50\n",
      "465/465 [==============================] - 0s 617us/step - loss: 0.6091 - root_mean_squared_error: 0.7805 - val_loss: 0.5929 - val_root_mean_squared_error: 0.7700\n",
      "Epoch 5/50\n",
      "465/465 [==============================] - 0s 597us/step - loss: 0.5783 - root_mean_squared_error: 0.7604 - val_loss: 0.5597 - val_root_mean_squared_error: 0.7481\n",
      "Epoch 6/50\n",
      "465/465 [==============================] - 0s 625us/step - loss: 0.5547 - root_mean_squared_error: 0.7448 - val_loss: 0.5330 - val_root_mean_squared_error: 0.7300\n",
      "Epoch 7/50\n",
      "465/465 [==============================] - 0s 609us/step - loss: 0.5431 - root_mean_squared_error: 0.7370 - val_loss: 0.5301 - val_root_mean_squared_error: 0.7281\n",
      "Epoch 8/50\n",
      "465/465 [==============================] - 0s 625us/step - loss: 0.5258 - root_mean_squared_error: 0.7251 - val_loss: 0.5179 - val_root_mean_squared_error: 0.7197\n",
      "Epoch 9/50\n",
      "465/465 [==============================] - 0s 765us/step - loss: 0.5135 - root_mean_squared_error: 0.7166 - val_loss: 0.5055 - val_root_mean_squared_error: 0.7110\n",
      "Epoch 10/50\n",
      "465/465 [==============================] - 0s 591us/step - loss: 0.5051 - root_mean_squared_error: 0.7107 - val_loss: 0.4894 - val_root_mean_squared_error: 0.6996\n",
      "Epoch 11/50\n",
      "465/465 [==============================] - 0s 616us/step - loss: 0.4961 - root_mean_squared_error: 0.7044 - val_loss: 0.4931 - val_root_mean_squared_error: 0.7022\n",
      "Epoch 12/50\n",
      "465/465 [==============================] - 0s 607us/step - loss: 0.4884 - root_mean_squared_error: 0.6989 - val_loss: 0.5001 - val_root_mean_squared_error: 0.7072\n",
      "Epoch 13/50\n",
      "465/465 [==============================] - 0s 705us/step - loss: 0.4829 - root_mean_squared_error: 0.6949 - val_loss: 0.4854 - val_root_mean_squared_error: 0.6967\n",
      "Epoch 14/50\n",
      "465/465 [==============================] - 0s 594us/step - loss: 0.4780 - root_mean_squared_error: 0.6914 - val_loss: 0.4746 - val_root_mean_squared_error: 0.6889\n",
      "Epoch 15/50\n",
      "465/465 [==============================] - 0s 624us/step - loss: 0.4726 - root_mean_squared_error: 0.6874 - val_loss: 0.4711 - val_root_mean_squared_error: 0.6864\n",
      "Epoch 16/50\n",
      "465/465 [==============================] - 0s 620us/step - loss: 0.4681 - root_mean_squared_error: 0.6842 - val_loss: 0.4663 - val_root_mean_squared_error: 0.6829\n",
      "Epoch 17/50\n",
      "465/465 [==============================] - 0s 628us/step - loss: 0.4641 - root_mean_squared_error: 0.6812 - val_loss: 0.4652 - val_root_mean_squared_error: 0.6820\n",
      "Epoch 18/50\n",
      "465/465 [==============================] - 0s 617us/step - loss: 0.4628 - root_mean_squared_error: 0.6803 - val_loss: 0.4520 - val_root_mean_squared_error: 0.6723\n",
      "Epoch 19/50\n",
      "465/465 [==============================] - 0s 699us/step - loss: 0.4596 - root_mean_squared_error: 0.6780 - val_loss: 0.4521 - val_root_mean_squared_error: 0.6724\n",
      "Epoch 20/50\n",
      "465/465 [==============================] - 0s 663us/step - loss: 0.4557 - root_mean_squared_error: 0.6751 - val_loss: 0.4521 - val_root_mean_squared_error: 0.6724\n",
      "Epoch 21/50\n",
      "465/465 [==============================] - 0s 920us/step - loss: 0.4526 - root_mean_squared_error: 0.6728 - val_loss: 0.4485 - val_root_mean_squared_error: 0.6697\n",
      "Epoch 22/50\n",
      "465/465 [==============================] - 0s 615us/step - loss: 0.4501 - root_mean_squared_error: 0.6709 - val_loss: 0.4561 - val_root_mean_squared_error: 0.6754\n",
      "Epoch 23/50\n",
      "465/465 [==============================] - 0s 603us/step - loss: 0.4472 - root_mean_squared_error: 0.6687 - val_loss: 0.4384 - val_root_mean_squared_error: 0.6621\n",
      "Epoch 24/50\n",
      "465/465 [==============================] - 0s 619us/step - loss: 0.4455 - root_mean_squared_error: 0.6675 - val_loss: 0.4332 - val_root_mean_squared_error: 0.6582\n",
      "Epoch 25/50\n",
      "465/465 [==============================] - 0s 596us/step - loss: 0.4436 - root_mean_squared_error: 0.6660 - val_loss: 0.4335 - val_root_mean_squared_error: 0.6584\n",
      "Epoch 26/50\n",
      "465/465 [==============================] - 0s 602us/step - loss: 0.4421 - root_mean_squared_error: 0.6649 - val_loss: 0.4333 - val_root_mean_squared_error: 0.6583\n",
      "Epoch 27/50\n",
      "465/465 [==============================] - 0s 662us/step - loss: 0.4408 - root_mean_squared_error: 0.6639 - val_loss: 0.4420 - val_root_mean_squared_error: 0.6648\n",
      "Epoch 28/50\n",
      "465/465 [==============================] - 0s 617us/step - loss: 0.4379 - root_mean_squared_error: 0.6617 - val_loss: 0.4367 - val_root_mean_squared_error: 0.6608\n",
      "Epoch 29/50\n",
      "465/465 [==============================] - 0s 617us/step - loss: 0.4355 - root_mean_squared_error: 0.6599 - val_loss: 0.4317 - val_root_mean_squared_error: 0.6570\n",
      "Epoch 30/50\n",
      "465/465 [==============================] - 0s 604us/step - loss: 0.4337 - root_mean_squared_error: 0.6586 - val_loss: 0.4263 - val_root_mean_squared_error: 0.6529\n",
      "Epoch 31/50\n",
      "465/465 [==============================] - 0s 615us/step - loss: 0.4314 - root_mean_squared_error: 0.6568 - val_loss: 0.4288 - val_root_mean_squared_error: 0.6549\n",
      "Epoch 32/50\n",
      "465/465 [==============================] - 0s 613us/step - loss: 0.4337 - root_mean_squared_error: 0.6586 - val_loss: 0.4324 - val_root_mean_squared_error: 0.6575\n",
      "Epoch 33/50\n",
      "465/465 [==============================] - 0s 605us/step - loss: 0.4328 - root_mean_squared_error: 0.6579 - val_loss: 0.4256 - val_root_mean_squared_error: 0.6523\n",
      "Epoch 34/50\n",
      "465/465 [==============================] - 0s 656us/step - loss: 0.4276 - root_mean_squared_error: 0.6539 - val_loss: 0.4292 - val_root_mean_squared_error: 0.6551\n",
      "Epoch 35/50\n",
      "465/465 [==============================] - 0s 630us/step - loss: 0.4257 - root_mean_squared_error: 0.6525 - val_loss: 0.4294 - val_root_mean_squared_error: 0.6553\n",
      "Epoch 36/50\n",
      "465/465 [==============================] - 0s 620us/step - loss: 0.4231 - root_mean_squared_error: 0.6505 - val_loss: 0.4255 - val_root_mean_squared_error: 0.6523\n",
      "Epoch 37/50\n",
      "465/465 [==============================] - 0s 630us/step - loss: 0.4218 - root_mean_squared_error: 0.6494 - val_loss: 0.4203 - val_root_mean_squared_error: 0.6483\n",
      "Epoch 38/50\n",
      "465/465 [==============================] - 0s 623us/step - loss: 0.4202 - root_mean_squared_error: 0.6482 - val_loss: 0.4242 - val_root_mean_squared_error: 0.6513\n",
      "Epoch 39/50\n",
      "465/465 [==============================] - 0s 646us/step - loss: 0.4192 - root_mean_squared_error: 0.6474 - val_loss: 0.4152 - val_root_mean_squared_error: 0.6443\n",
      "Epoch 40/50\n",
      "465/465 [==============================] - 0s 629us/step - loss: 0.4170 - root_mean_squared_error: 0.6457 - val_loss: 0.4199 - val_root_mean_squared_error: 0.6480\n",
      "Epoch 41/50\n",
      "465/465 [==============================] - 0s 631us/step - loss: 0.4157 - root_mean_squared_error: 0.6448 - val_loss: 0.4201 - val_root_mean_squared_error: 0.6482\n",
      "Epoch 42/50\n",
      "465/465 [==============================] - 0s 624us/step - loss: 0.4144 - root_mean_squared_error: 0.6437 - val_loss: 0.4218 - val_root_mean_squared_error: 0.6495\n",
      "Epoch 43/50\n",
      "465/465 [==============================] - 0s 625us/step - loss: 0.4127 - root_mean_squared_error: 0.6424 - val_loss: 0.4133 - val_root_mean_squared_error: 0.6429\n",
      "Epoch 44/50\n",
      "465/465 [==============================] - 0s 624us/step - loss: 0.4115 - root_mean_squared_error: 0.6415 - val_loss: 0.4087 - val_root_mean_squared_error: 0.6393\n",
      "Epoch 45/50\n",
      "465/465 [==============================] - 0s 616us/step - loss: 0.4099 - root_mean_squared_error: 0.6403 - val_loss: 0.4094 - val_root_mean_squared_error: 0.6399\n",
      "Epoch 46/50\n",
      "465/465 [==============================] - 0s 621us/step - loss: 0.4084 - root_mean_squared_error: 0.6391 - val_loss: 0.4076 - val_root_mean_squared_error: 0.6384\n",
      "Epoch 47/50\n",
      "465/465 [==============================] - 0s 620us/step - loss: 0.4076 - root_mean_squared_error: 0.6385 - val_loss: 0.4181 - val_root_mean_squared_error: 0.6466\n",
      "Epoch 48/50\n",
      "465/465 [==============================] - 0s 627us/step - loss: 0.4061 - root_mean_squared_error: 0.6373 - val_loss: 0.4029 - val_root_mean_squared_error: 0.6348\n",
      "Epoch 49/50\n",
      "465/465 [==============================] - 0s 619us/step - loss: 0.4042 - root_mean_squared_error: 0.6358 - val_loss: 0.4092 - val_root_mean_squared_error: 0.6397\n",
      "Epoch 50/50\n",
      "465/465 [==============================] - 0s 626us/step - loss: 0.4029 - root_mean_squared_error: 0.6348 - val_loss: 0.4050 - val_root_mean_squared_error: 0.6364\n"
     ]
    }
   ],
   "source": [
    "# wide and deep neural network\n",
    "\n",
    "input_ = keras.layers.Input(shape = x_train.shape[1:])\n",
    "hidden1 = keras.layers.Dense(30, activation = 'relu')(input_)\n",
    "hidden2 = keras.layers.Dense(30, activation = 'relu')(hidden1)\n",
    "concat = keras.layers.Concatenate()([input_, hidden2])\n",
    "output = keras.layers.Dense(1)(concat)\n",
    "wide_model = keras.Model(inputs = [input_], outputs = [output])\n",
    "\n",
    "wide_model.compile(loss = 'mse', metrics = ['RootMeanSquaredError'],optimizer = keras.optimizers.SGD(learning_rate = 1e-3))\n",
    "\n",
    "history1 = wide_model.fit(x_train, y_train, validation_split = .1, epochs = 50)\n"
   ]
  },
  {
   "cell_type": "code",
   "execution_count": 34,
   "metadata": {},
   "outputs": [
    {
     "data": {
      "image/png": "[encoded data removed]",
      "text/plain": [
       "<Figure size 864x576 with 1 Axes>"
      ]
     },
     "metadata": {
      "needs_background": "light"
     },
     "output_type": "display_data"
    }
   ],
   "source": [
    "pd.DataFrame(history1.history).plot(figsize = (12,8))\n",
    "plt.grid(True)\n",
    "plt.gca().set_ylim(0,1)\n",
    "plt.show()"
   ]
  },
  {
   "cell_type": "code",
   "execution_count": null,
   "metadata": {},
   "outputs": [],
   "source": []
  }
 ],
 "metadata": {
  "interpreter": {
   "hash": "dca0ade3e726a953b501b15e8e990130d2b7799f14cfd9f4271676035ebe5511"
  },
  "kernelspec": {
   "display_name": "Python 3.8.8 64-bit ('base': conda)",
   "name": "python3"
  },
  "language_info": {
   "codemirror_mode": {
    "name": "ipython",
    "version": 3
   },
   "file_extension": ".py",
   "mimetype": "text/x-python",
   "name": "python",
   "nbconvert_exporter": "python",
   "pygments_lexer": "ipython3",
   "version": "3.8.10"
  },
  "metadata": {
   "interpreter": {
    "hash": "aee8b7b246df8f9039afb4144a1f6fd8d2ca17a180786b69acc140d282b71a49"
   }
  },
  "orig_nbformat": 2
 },
 "nbformat": 4,
 "nbformat_minor": 2
}